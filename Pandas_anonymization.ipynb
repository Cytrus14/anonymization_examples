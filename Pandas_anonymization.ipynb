{
 "cells": [
  {
   "cell_type": "markdown",
   "id": "695e901e-6239-4a9d-add0-778246f3f72b",
   "metadata": {},
   "source": [
    "## Import niezbędnych modułów"
   ]
  },
  {
   "cell_type": "code",
   "execution_count": 1,
   "id": "a529f8bb-448e-4be5-9695-ff52d4a80012",
   "metadata": {},
   "outputs": [],
   "source": [
    "import base64\n",
    "import hashlib\n",
    "import os\n",
    "import random\n",
    "import string\n",
    "\n",
    "import pandas as pd\n",
    "pd.set_option('display.width', 1000)"
   ]
  },
  {
   "cell_type": "markdown",
   "id": "c8f4b9ef-6056-4a43-b11f-3d3f3d7604b0",
   "metadata": {},
   "source": [
    "## Definicja własnych funkcji anonymizacji z wykorzystaniem biblioteki Pandas"
   ]
  },
  {
   "cell_type": "code",
   "execution_count": 23,
   "id": "c743c977-67ba-4e30-bfaf-a455eea4447f",
   "metadata": {},
   "outputs": [],
   "source": [
    "def encode_column_random(data, column):\n",
    "    random_values = data[column].apply(lambda row: os.urandom(12))\n",
    "    data[column] = random_values.apply(lambda row: base64.b64encode(row).decode())\n",
    "    return data\n",
    "\n",
    "def encode_column_deterministic(data, column, token):\n",
    "    hashed_data = data[column].apply(lambda row: hashlib.sha256(row.encode() + token.encode()))\n",
    "    data[column] = hashed_data.apply(lambda row: base64.b64encode(row.digest()).decode()[0:16])\n",
    "    return data\n",
    "\n",
    "def swap_rows(data, column):\n",
    "    shuffled_column = pd.DataFrame(data[column].sample(frac=1).reset_index(drop=True))\n",
    "    data[column] = shuffled_column.set_index(data.index)\n",
    "    return data\n",
    "\n",
    "def mask_column(data, column, visible_chars_count=3, mask_whole_above=10, reverse=False):\n",
    "    data[column] = data[column].apply(lambda row: (row[:visible_chars_count] + '****' if not reverse else '****' + row[-visible_chars_count:]) if len(row) > mask_whole_above else '****')\n",
    "    return data\n",
    "\n",
    "def _round_to_nearest(x, base):\n",
    "    return base * round(x / base)\n",
    "\n",
    "def perturbate_numerical_column(data, column, rounding, max_noise):\n",
    "    data[column] = _round_to_nearest(data[column] + random.randint(0, max_noise) * random.choice([1,-1]), rounding)\n",
    "    return data"
   ]
  },
  {
   "cell_type": "markdown",
   "id": "b7d6806e-c28b-44f6-8b92-fecc394d4cdb",
   "metadata": {},
   "source": [
    "## Załadowanie surowych danych"
   ]
  },
  {
   "cell_type": "code",
   "execution_count": 3,
   "id": "de88bc9b-c9e5-4abb-b53d-ddd31d7f934e",
   "metadata": {},
   "outputs": [
    {
     "name": "stdout",
     "output_type": "stream",
     "text": [
      "     first_name      last_name         voivodeship       city                            email   phone_number  age  last_purchase_category  purchases_value\n",
      "id                                                                                                                                                         \n",
      "1         Filip       Adamczyk        Dolnośląskie    Wrocław       jacek.szymański58@mail.com  +48 807662339   21                       5              280\n",
      "2      Grzegorz         Kaczor        Podkarpackie     Gdańsk     henryk.woźniak27@example.com  +48 050643694   20                       2              390\n",
      "3         Beata      Dąbrowski  Kujawsko-Pomorskie     Lublin  grażyna.dąbrowski59@example.com  +48 555276613   43                       4              670\n",
      "4        Danuta      Kaczmarek            Lubuskie   Warszawa     grażyna.dąbrowski28@mail.com  +48 267952410   24                       4              340\n",
      "5        Łukasz        Woźniak             Łódzkie     Poznań   dariusz.kowalski24@example.com  +48 797852810   32                       3              360\n",
      "..          ...            ...                 ...        ...                              ...            ...  ...                     ...              ...\n",
      "96       Teresa       Adamczyk         Mazowieckie  Bydgoszcz    bartosz.wiśniewski82@post.com  +48 611719619   21                       2               50\n",
      "97        Paweł      Dąbrowski             Łódzkie     Gdańsk        iwona.nowak78@example.com  +48 457587146   33                       3              120\n",
      "98       Edward          Dudek            Lubuskie   Katowice         filip.wójcik53@inbox.com  +48 183191917   31                       4              270\n",
      "99        Zofia  Wojciechowski        Podkarpackie     Lublin         jacek.wójcik39@inbox.com  +48 012686278   76                       3             7890\n",
      "100  Aleksander      Jabłoński        Podkarpackie     Poznań       iwona.szymański79@post.com  +48 496017754   52                       1               50\n",
      "\n",
      "[100 rows x 9 columns]\n"
     ]
    }
   ],
   "source": [
    "# Load the raw data\n",
    "data_raw = pd.read_csv(os.path.join('data', 'fictitious_cutsomer_data.csv'), index_col='id')\n",
    "print(data_raw)"
   ]
  },
  {
   "cell_type": "markdown",
   "id": "c52fece3-f21f-4851-852f-a543c71ffa09",
   "metadata": {},
   "source": [
    "# Anonimizacja"
   ]
  },
  {
   "cell_type": "markdown",
   "id": "6e4bd15c-eb24-4242-9117-a5087e69f162",
   "metadata": {},
   "source": [
    "## 1. Pseudonimizacja (kodowanie) kolumn \"first_name\" i \"last_name\" oraz zastąpienie ich pojedycznym atrybutem \"name\""
   ]
  },
  {
   "cell_type": "code",
   "execution_count": 26,
   "id": "9f2595cd-c3db-4aa5-a002-488d0ae5b334",
   "metadata": {},
   "outputs": [
    {
     "name": "stdout",
     "output_type": "stream",
     "text": [
      "                 name         voivodeship       city                            email   phone_number  age  last_purchase_category  purchases_value\n",
      "id                                                                                                                                                \n",
      "1    K7MSlCevOa2KchxH        Dolnośląskie    Wrocław       jacek.szymański58@mail.com  +48 807662339   21                       5              280\n",
      "2    +1d7RlVzv60m9kCZ        Podkarpackie     Gdańsk     henryk.woźniak27@example.com  +48 050643694   20                       2              390\n",
      "3    klLAFhx8GedE3Moi  Kujawsko-Pomorskie     Lublin  grażyna.dąbrowski59@example.com  +48 555276613   43                       4              670\n",
      "4    7DZT4hT7ZU4ojm3e            Lubuskie   Warszawa     grażyna.dąbrowski28@mail.com  +48 267952410   24                       4              340\n",
      "5    gzGFTGx9obr6LwkZ             Łódzkie     Poznań   dariusz.kowalski24@example.com  +48 797852810   32                       3              360\n",
      "..                ...                 ...        ...                              ...            ...  ...                     ...              ...\n",
      "96   WlCu8feROWJI714z         Mazowieckie  Bydgoszcz    bartosz.wiśniewski82@post.com  +48 611719619   21                       2               50\n",
      "97   2T8LFx3WlkVX01dH             Łódzkie     Gdańsk        iwona.nowak78@example.com  +48 457587146   33                       3              120\n",
      "98   eFfM18v2M0D9aKIe            Lubuskie   Katowice         filip.wójcik53@inbox.com  +48 183191917   31                       4              270\n",
      "99   hii1OWefR4eWmDAO        Podkarpackie     Lublin         jacek.wójcik39@inbox.com  +48 012686278   76                       3             7890\n",
      "100  aqI7HYT6FrRXg+GA        Podkarpackie     Poznań       iwona.szymański79@post.com  +48 496017754   52                       1               50\n",
      "\n",
      "[100 rows x 8 columns]\n"
     ]
    }
   ],
   "source": [
    "data = data_raw\n",
    "# concatenate the first_name and last_name columns\n",
    "data['name'] = data[['first_name', 'last_name']].apply(lambda row: (row['first_name'] + row['last_name']), axis=1)\n",
    "# Load the token used for hashing\n",
    "token = None\n",
    "with open('./token.txt', 'r') as file:\n",
    "    token = file.read()\n",
    "# encoded the selected column\n",
    "data = encode_column_deterministic(data, column='name', token=token)\n",
    "# drop the original columns\n",
    "data = data.drop(['first_name', 'last_name'], axis=1)\n",
    "# move the 'name' column to the front\n",
    "data = data[['name'] + [col for col in data.columns if col != 'name']]\n",
    "# print the resulting dataframe\n",
    "print(data)"
   ]
  },
  {
   "cell_type": "markdown",
   "id": "525f6d5c-f529-4ee8-9bd8-af65fb6aef33",
   "metadata": {},
   "source": [
    "## 2. Supresja kolumny \"voivodeship\""
   ]
  },
  {
   "cell_type": "code",
   "execution_count": 27,
   "id": "157cc886-0bab-4097-b053-4c6db3fdd08f",
   "metadata": {},
   "outputs": [
    {
     "name": "stdout",
     "output_type": "stream",
     "text": [
      "                 name       city                            email   phone_number  age  last_purchase_category  purchases_value\n",
      "id                                                                                                                            \n",
      "1    K7MSlCevOa2KchxH    Wrocław       jacek.szymański58@mail.com  +48 807662339   21                       5              280\n",
      "2    +1d7RlVzv60m9kCZ     Gdańsk     henryk.woźniak27@example.com  +48 050643694   20                       2              390\n",
      "3    klLAFhx8GedE3Moi     Lublin  grażyna.dąbrowski59@example.com  +48 555276613   43                       4              670\n",
      "4    7DZT4hT7ZU4ojm3e   Warszawa     grażyna.dąbrowski28@mail.com  +48 267952410   24                       4              340\n",
      "5    gzGFTGx9obr6LwkZ     Poznań   dariusz.kowalski24@example.com  +48 797852810   32                       3              360\n",
      "..                ...        ...                              ...            ...  ...                     ...              ...\n",
      "96   WlCu8feROWJI714z  Bydgoszcz    bartosz.wiśniewski82@post.com  +48 611719619   21                       2               50\n",
      "97   2T8LFx3WlkVX01dH     Gdańsk        iwona.nowak78@example.com  +48 457587146   33                       3              120\n",
      "98   eFfM18v2M0D9aKIe   Katowice         filip.wójcik53@inbox.com  +48 183191917   31                       4              270\n",
      "99   hii1OWefR4eWmDAO     Lublin         jacek.wójcik39@inbox.com  +48 012686278   76                       3             7890\n",
      "100  aqI7HYT6FrRXg+GA     Poznań       iwona.szymański79@post.com  +48 496017754   52                       1               50\n",
      "\n",
      "[100 rows x 7 columns]\n"
     ]
    }
   ],
   "source": [
    "# Supresja\n",
    "data = data.drop('voivodeship', axis=1)\n",
    "print(data)"
   ]
  },
  {
   "cell_type": "markdown",
   "id": "f4dc501f-cb19-4d96-81f7-460f08bc956a",
   "metadata": {},
   "source": [
    "## 3. Perturbacja danych w kolumnach \"age\" oraz \"purchase_value\""
   ]
  },
  {
   "cell_type": "code",
   "execution_count": 28,
   "id": "2f62614a-f5a2-4cd1-993f-43e139340fa4",
   "metadata": {},
   "outputs": [
    {
     "name": "stdout",
     "output_type": "stream",
     "text": [
      "                 name       city                            email   phone_number   age  last_purchase_category  purchases_value\n",
      "id                                                                                                                             \n",
      "1    K7MSlCevOa2KchxH    Wrocław       jacek.szymański58@mail.com  +48 807662339  20.0                       5            300.0\n",
      "2    +1d7RlVzv60m9kCZ     Gdańsk     henryk.woźniak27@example.com  +48 050643694  20.0                       2            400.0\n",
      "3    klLAFhx8GedE3Moi     Lublin  grażyna.dąbrowski59@example.com  +48 555276613  45.0                       4            700.0\n",
      "4    7DZT4hT7ZU4ojm3e   Warszawa     grażyna.dąbrowski28@mail.com  +48 267952410  25.0                       4            350.0\n",
      "5    gzGFTGx9obr6LwkZ     Poznań   dariusz.kowalski24@example.com  +48 797852810  35.0                       3            350.0\n",
      "..                ...        ...                              ...            ...   ...                     ...              ...\n",
      "96   WlCu8feROWJI714z  Bydgoszcz    bartosz.wiśniewski82@post.com  +48 611719619  20.0                       2             50.0\n",
      "97   2T8LFx3WlkVX01dH     Gdańsk        iwona.nowak78@example.com  +48 457587146  35.0                       3            100.0\n",
      "98   eFfM18v2M0D9aKIe   Katowice         filip.wójcik53@inbox.com  +48 183191917  30.0                       4            300.0\n",
      "99   hii1OWefR4eWmDAO     Lublin         jacek.wójcik39@inbox.com  +48 012686278  75.0                       3           7900.0\n",
      "100  aqI7HYT6FrRXg+GA     Poznań       iwona.szymański79@post.com  +48 496017754  55.0                       1             50.0\n",
      "\n",
      "[100 rows x 7 columns]\n"
     ]
    }
   ],
   "source": [
    "# Perturbacja danych\n",
    "data = perturbate_numerical_column(data, 'age', 5, 2)\n",
    "data = perturbate_numerical_column(data, 'purchases_value', 50, 20)\n",
    "print(data)"
   ]
  },
  {
   "cell_type": "markdown",
   "id": "91e2b4d0-9362-44ed-8ba1-46624e840664",
   "metadata": {},
   "source": [
    "## 4. Maskowanie znaków w kolumnach \"email\" oraz \"phone_number\""
   ]
  },
  {
   "cell_type": "code",
   "execution_count": 29,
   "id": "6665b8a5-d08b-4757-8572-29b70ba52c0c",
   "metadata": {},
   "outputs": [
    {
     "name": "stdout",
     "output_type": "stream",
     "text": [
      "                 name       city    email phone_number   age  last_purchase_category  purchases_value\n",
      "id                                                                                                   \n",
      "1    K7MSlCevOa2KchxH    Wrocław  jac****       ****39  20.0                       5            300.0\n",
      "2    +1d7RlVzv60m9kCZ     Gdańsk  hen****       ****94  20.0                       2            400.0\n",
      "3    klLAFhx8GedE3Moi     Lublin  gra****       ****13  45.0                       4            700.0\n",
      "4    7DZT4hT7ZU4ojm3e   Warszawa  gra****       ****10  25.0                       4            350.0\n",
      "5    gzGFTGx9obr6LwkZ     Poznań  dar****       ****10  35.0                       3            350.0\n",
      "..                ...        ...      ...          ...   ...                     ...              ...\n",
      "96   WlCu8feROWJI714z  Bydgoszcz  bar****       ****19  20.0                       2             50.0\n",
      "97   2T8LFx3WlkVX01dH     Gdańsk  iwo****       ****46  35.0                       3            100.0\n",
      "98   eFfM18v2M0D9aKIe   Katowice  fil****       ****17  30.0                       4            300.0\n",
      "99   hii1OWefR4eWmDAO     Lublin  jac****       ****78  75.0                       3           7900.0\n",
      "100  aqI7HYT6FrRXg+GA     Poznań  iwo****       ****54  55.0                       1             50.0\n",
      "\n",
      "[100 rows x 7 columns]\n"
     ]
    }
   ],
   "source": [
    "# Maskowanie znaków\n",
    "data = mask_column(data, 'email')\n",
    "data = mask_column(data, 'phone_number', visible_chars_count=2, reverse=True)\n",
    "print(data)"
   ]
  },
  {
   "cell_type": "markdown",
   "id": "86120748-fe74-4502-84f7-d90473fa0fbe",
   "metadata": {},
   "source": [
    "## 5. Permutacje (swapping) kolumny \"city\""
   ]
  },
  {
   "cell_type": "code",
   "execution_count": 30,
   "id": "ae6551ff-4a2e-4ee7-9aa5-920dd394ebc8",
   "metadata": {},
   "outputs": [
    {
     "name": "stdout",
     "output_type": "stream",
     "text": [
      "                 name       city    email phone_number   age  last_purchase_category  purchases_value\n",
      "id                                                                                                   \n",
      "1    K7MSlCevOa2KchxH  Bydgoszcz  jac****       ****39  20.0                       5            300.0\n",
      "2    +1d7RlVzv60m9kCZ    Wrocław  hen****       ****94  20.0                       2            400.0\n",
      "3    klLAFhx8GedE3Moi   Warszawa  gra****       ****13  45.0                       4            700.0\n",
      "4    7DZT4hT7ZU4ojm3e   Warszawa  gra****       ****10  25.0                       4            350.0\n",
      "5    gzGFTGx9obr6LwkZ   Warszawa  dar****       ****10  35.0                       3            350.0\n",
      "..                ...        ...      ...          ...   ...                     ...              ...\n",
      "96   WlCu8feROWJI714z     Gdańsk  bar****       ****19  20.0                       2             50.0\n",
      "97   2T8LFx3WlkVX01dH     Poznań  iwo****       ****46  35.0                       3            100.0\n",
      "98   eFfM18v2M0D9aKIe     Gdańsk  fil****       ****17  30.0                       4            300.0\n",
      "99   hii1OWefR4eWmDAO     Poznań  jac****       ****78  75.0                       3           7900.0\n",
      "100  aqI7HYT6FrRXg+GA    Wrocław  iwo****       ****54  55.0                       1             50.0\n",
      "\n",
      "[100 rows x 7 columns]\n"
     ]
    }
   ],
   "source": [
    "# Permutacje (swapping)\n",
    "data = swap_rows(data, 'city')\n",
    "print(data)"
   ]
  },
  {
   "cell_type": "markdown",
   "id": "57756c6b-cbda-4e30-bf46-8ed39ad1bcce",
   "metadata": {},
   "source": [
    "## 6. Agregacja danych"
   ]
  },
  {
   "cell_type": "markdown",
   "id": "6b8d123a-fc7e-46ff-b9d7-7f9f7a31dac3",
   "metadata": {},
   "source": [
    "### 6.1 Obliczenie sumy kolumny \"purchases_value\" dla poszczególnych województw"
   ]
  },
  {
   "cell_type": "code",
   "execution_count": 31,
   "id": "3406690c-c6f5-4dff-9839-e4530d38e08e",
   "metadata": {},
   "outputs": [
    {
     "name": "stdout",
     "output_type": "stream",
     "text": [
      "                    purchases_value\n",
      "voivodeship                        \n",
      "Dolnośląskie                   3760\n",
      "Kujawsko-Pomorskie             5210\n",
      "Lubelskie                      7310\n",
      "Lubuskie                      14950\n",
      "Mazowieckie                   14660\n",
      "Małopolskie                    6640\n",
      "Opolskie                      21930\n",
      "Podkarpackie                  17300\n",
      "Podlaskie                     14440\n",
      "Łódzkie                        8990\n"
     ]
    }
   ],
   "source": [
    "# Agregacja danych I\n",
    "result = data_raw[['voivodeship','purchases_value']].groupby('voivodeship').sum()\n",
    "print(result)"
   ]
  },
  {
   "cell_type": "markdown",
   "id": "06456fa3-fd09-4c2c-b6ce-a06e3bdc008a",
   "metadata": {},
   "source": [
    "### 6.2 Sumowanie całej kolumny \"purchases_value\" "
   ]
  },
  {
   "cell_type": "code",
   "execution_count": 32,
   "id": "ced4848b-a133-4864-8114-9acedd170f1d",
   "metadata": {},
   "outputs": [
    {
     "name": "stdout",
     "output_type": "stream",
     "text": [
      "Total income: 115190 PLN\n"
     ]
    }
   ],
   "source": [
    "# Agregacja danych II\n",
    "result = data_raw['purchases_value'].sum(axis=0)\n",
    "print(f'Total income: {result} PLN')"
   ]
  },
  {
   "cell_type": "code",
   "execution_count": null,
   "id": "a66fe7b7-3e5c-4d61-b500-94b8137bda36",
   "metadata": {},
   "outputs": [],
   "source": []
  }
 ],
 "metadata": {
  "kernelspec": {
   "display_name": "Python 3 (ipykernel)",
   "language": "python",
   "name": "python3"
  },
  "language_info": {
   "codemirror_mode": {
    "name": "ipython",
    "version": 3
   },
   "file_extension": ".py",
   "mimetype": "text/x-python",
   "name": "python",
   "nbconvert_exporter": "python",
   "pygments_lexer": "ipython3",
   "version": "3.11.4"
  }
 },
 "nbformat": 4,
 "nbformat_minor": 5
}
